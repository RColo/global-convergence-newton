{
 "cells": [
  {
   "cell_type": "code",
   "execution_count": 2,
   "id": "3b832c2c-75af-453a-abbf-822926d8338a",
   "metadata": {},
   "outputs": [],
   "source": [
    "import numpy as np\n",
    "import requests\n",
    "import urllib3\n",
    "from sklearn.datasets import load_svmlight_file"
   ]
  },
  {
   "cell_type": "code",
   "execution_count": 3,
   "id": "18045ac0-b20c-44e5-b0b2-5bdb8d197444",
   "metadata": {},
   "outputs": [],
   "source": [
    "urllib3.disable_warnings(urllib3.exceptions.InsecureRequestWarning)\n",
    "\n",
    "url = \"https://www.csie.ntu.edu.tw/~cjlin/libsvmtools/datasets/binary/a9a\"\n",
    "response = requests.get(url, verify=False) # Verify set to false (not very safe but works)\n",
    "\n",
    "with open(\"a9a\", \"wb\") as f:\n",
    "    f.write(response.content)\n",
    "\n",
    "url = \"https://www.csie.ntu.edu.tw/~cjlin/libsvmtools/datasets/binary/a9a.t\"\n",
    "response = requests.get(url, verify=False) # Verify set to false (not very safe but works)\n",
    "\n",
    "with open(\"a9a.t\", \"wb\") as f:\n",
    "    f.write(response.content)\n"
   ]
  },
  {
   "cell_type": "code",
   "execution_count": 4,
   "id": "f2cfea8a-8549-4426-838b-a7e2aaefd4ef",
   "metadata": {},
   "outputs": [],
   "source": [
    "X_train, y_train = load_svmlight_file(\"a9a\")\n",
    "X_test, y_test = load_svmlight_file(\"a9a.t\", n_features=X_train.shape[1])"
   ]
  },
  {
   "cell_type": "code",
   "execution_count": 5,
   "id": "9a2f8512-1d33-4e11-958d-6162cf5592ff",
   "metadata": {},
   "outputs": [
    {
     "name": "stdout",
     "output_type": "stream",
     "text": [
      "<class 'scipy.sparse._csr.csr_matrix'>\n",
      "(32561, 123)\n",
      "<class 'numpy.ndarray'>\n",
      "(32561,)\n",
      "<class 'scipy.sparse._csr.csr_matrix'>\n",
      "(16281, 123)\n",
      "<class 'numpy.ndarray'>\n",
      "(16281,)\n"
     ]
    }
   ],
   "source": [
    "print(type(X_train))\n",
    "print(X_train.shape)\n",
    "print(type(y_train))\n",
    "print(y_train.shape)\n",
    "print(type(X_test))\n",
    "print(X_test.shape)\n",
    "print(type(y_test))\n",
    "print(y_test.shape)"
   ]
  },
  {
   "cell_type": "code",
   "execution_count": 6,
   "id": "cdbbdc64-7678-4950-be70-c2f11f863109",
   "metadata": {},
   "outputs": [
    {
     "name": "stdout",
     "output_type": "stream",
     "text": [
      "[[0. 0. 1. ... 0. 0. 0.]\n",
      " [0. 0. 0. ... 0. 0. 0.]\n",
      " [0. 0. 1. ... 0. 0. 0.]\n",
      " ...\n",
      " [0. 0. 0. ... 0. 0. 0.]\n",
      " [1. 0. 0. ... 0. 0. 0.]\n",
      " [0. 0. 0. ... 0. 0. 0.]]\n",
      "[-1. -1. -1. ... -1. -1.  1.]\n"
     ]
    }
   ],
   "source": [
    "print(X_train.toarray())\n",
    "print(y_train)"
   ]
  },
  {
   "cell_type": "code",
   "execution_count": null,
   "id": "e4d6d8ab-ab87-4b0b-aa32-09be92b936ed",
   "metadata": {},
   "outputs": [],
   "source": [
    "model = LogisticRegression()"
   ]
  }
 ],
 "metadata": {
  "kernelspec": {
   "display_name": ".venv",
   "language": "python",
   "name": "python3"
  },
  "language_info": {
   "codemirror_mode": {
    "name": "ipython",
    "version": 3
   },
   "file_extension": ".py",
   "mimetype": "text/x-python",
   "name": "python",
   "nbconvert_exporter": "python",
   "pygments_lexer": "ipython3",
   "version": "3.13.0"
  }
 },
 "nbformat": 4,
 "nbformat_minor": 5
}
